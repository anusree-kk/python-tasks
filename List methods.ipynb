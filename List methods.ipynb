{
 "cells": [
  {
   "cell_type": "raw",
   "id": "9c2da7d3",
   "metadata": {},
   "source": []
  },
  {
   "cell_type": "code",
   "execution_count": 1,
   "id": "57e802d6",
   "metadata": {},
   "outputs": [
    {
     "name": "stdout",
     "output_type": "stream",
     "text": [
      "Hello world\n"
     ]
    }
   ],
   "source": [
    "s=\"Hello world\"\n",
    "print(s)"
   ]
  },
  {
   "cell_type": "code",
   "execution_count": 2,
   "id": "a258ab4a",
   "metadata": {},
   "outputs": [
    {
     "data": {
      "text/plain": [
       "11"
      ]
     },
     "execution_count": 2,
     "metadata": {},
     "output_type": "execute_result"
    }
   ],
   "source": [
    "len(s)"
   ]
  },
  {
   "cell_type": "code",
   "execution_count": 3,
   "id": "bf2faf5b",
   "metadata": {},
   "outputs": [
    {
     "name": "stdout",
     "output_type": "stream",
     "text": [
      "10\n"
     ]
    }
   ],
   "source": [
    "count=0\n",
    "for i in range(0,len(s)):\n",
    "    if(s[i]!=' '):\n",
    "        count=count+1\n",
    "print(count)"
   ]
  },
  {
   "cell_type": "code",
   "execution_count": 4,
   "id": "b65ffa41",
   "metadata": {},
   "outputs": [
    {
     "name": "stdout",
     "output_type": "stream",
     "text": [
      "Occurence of Hello: 1\n",
      "Occurence of World: 1\n"
     ]
    }
   ],
   "source": [
    "print(\"Occurence of Hello:\",s.count('Hello'))\n",
    "print(\"Occurence of World:\",s.count('world'))"
   ]
  },
  {
   "cell_type": "code",
   "execution_count": null,
   "id": "e8fc1a18",
   "metadata": {},
   "outputs": [],
   "source": [
    "a=input(\"Enter a string\")\n",
    "print(\"String in upper case:\",a.upper())\n",
    "print(\"String in Lower case:\",a.lower())"
   ]
  },
  {
   "cell_type": "code",
   "execution_count": null,
   "id": "596cf2a4",
   "metadata": {},
   "outputs": [],
   "source": [
    "list = [\"apple\", \"banana\", \"cherry\"]\n",
    "list.append(\"orange\")\n",
    "print(list)"
   ]
  },
  {
   "cell_type": "code",
   "execution_count": null,
   "id": "ac1769e8",
   "metadata": {},
   "outputs": [],
   "source": [
    "list.insert(1,\"cheri\")\n",
    "print(list)"
   ]
  },
  {
   "cell_type": "code",
   "execution_count": null,
   "id": "f5b20fa1",
   "metadata": {},
   "outputs": [],
   "source": [
    "adding_list=[\"Jackfruit\",\"Kiwi\"]\n",
    "list.extend(adding_list)\n",
    "print(list)"
   ]
  },
  {
   "cell_type": "code",
   "execution_count": null,
   "id": "319b9a75",
   "metadata": {},
   "outputs": [],
   "source": [
    "list.clear()\n",
    "print(list)"
   ]
  },
  {
   "cell_type": "code",
   "execution_count": null,
   "id": "d1b515a7",
   "metadata": {},
   "outputs": [],
   "source": [
    "mylist=list.copy()\n",
    "print(mylist)"
   ]
  },
  {
   "cell_type": "code",
   "execution_count": null,
   "id": "b7d9c2a3",
   "metadata": {},
   "outputs": [],
   "source": [
    "a=list.count(\"cheri\")\n",
    "print(a)"
   ]
  },
  {
   "cell_type": "code",
   "execution_count": null,
   "id": "664d00e8",
   "metadata": {},
   "outputs": [],
   "source": [
    "list.remove(\"cheri\")\n",
    "print(list)"
   ]
  },
  {
   "cell_type": "code",
   "execution_count": null,
   "id": "38db4687",
   "metadata": {},
   "outputs": [],
   "source": [
    "list.pop(3)\n",
    "print(list)"
   ]
  },
  {
   "cell_type": "code",
   "execution_count": null,
   "id": "722f8e63",
   "metadata": {},
   "outputs": [],
   "source": [
    "b=list.index(\"apple\")\n",
    "print(b)"
   ]
  },
  {
   "cell_type": "code",
   "execution_count": null,
   "id": "e7f00f1f",
   "metadata": {},
   "outputs": [],
   "source": [
    "list.reverse()\n",
    "print(list)"
   ]
  },
  {
   "cell_type": "code",
   "execution_count": null,
   "id": "e50699a6",
   "metadata": {},
   "outputs": [],
   "source": [
    "mylist=[\"tomato\",\"chilli\",\"Lemon\"]\n",
    "mylist.sort()"
   ]
  },
  {
   "cell_type": "code",
   "execution_count": null,
   "id": "07905a21",
   "metadata": {},
   "outputs": [],
   "source": []
  },
  {
   "cell_type": "code",
   "execution_count": null,
   "id": "12cff139",
   "metadata": {},
   "outputs": [],
   "source": []
  },
  {
   "cell_type": "code",
   "execution_count": null,
   "id": "e205b02b",
   "metadata": {},
   "outputs": [],
   "source": []
  }
 ],
 "metadata": {
  "kernelspec": {
   "display_name": "Python 3 (ipykernel)",
   "language": "python",
   "name": "python3"
  },
  "language_info": {
   "codemirror_mode": {
    "name": "ipython",
    "version": 3
   },
   "file_extension": ".py",
   "mimetype": "text/x-python",
   "name": "python",
   "nbconvert_exporter": "python",
   "pygments_lexer": "ipython3",
   "version": "3.9.12"
  }
 },
 "nbformat": 4,
 "nbformat_minor": 5
}
